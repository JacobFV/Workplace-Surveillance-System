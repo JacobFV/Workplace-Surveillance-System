{
 "cells": [
  {
   "cell_type": "code",
   "execution_count": 3,
   "metadata": {},
   "outputs": [],
   "source": [
    "from computatrum import run"
   ]
  },
  {
   "cell_type": "markdown",
   "metadata": {},
   "source": [
    "$P(A \\mid B) = \\frac{P(B \\mid A)P(A)}{P(B)}$"
   ]
  },
  {
   "cell_type": "code",
   "execution_count": 5,
   "metadata": {},
   "outputs": [],
   "source": [
    "from IPython import display"
   ]
  },
  {
   "cell_type": "code",
   "execution_count": 7,
   "metadata": {},
   "outputs": [],
   "source": [
    "STANDARD_KEYS = \"\"\"\n",
    "    esc F1 F2 F3 F4 F5 F6 F7 F8 F9 F10 F11 F12 insert delete\n",
    "    ` 1 2 3 4 5 6 7 8 9 0 - = backspace\n",
    "    tab q w e r t y u i o p [ ] \\\\\n",
    "    a s d f g h j k l ; ' enter\n",
    "    shift z x c v b n m , . /\n",
    "    ctrl windows alt \n",
    "    left up down right\n",
    "    \"\"\".split() + [\n",
    "        'print screen',\n",
    "        'caps lock',\n",
    "        'page up',\n",
    "        'page down'\n",
    "    ]"
   ]
  },
  {
   "cell_type": "code",
   "execution_count": 8,
   "metadata": {},
   "outputs": [
    {
     "data": {
      "text/plain": [
       "['F4', 'F11', '3', '0', 'e', 'p', 'f', \"'\", 'b']"
      ]
     },
     "metadata": {},
     "output_type": "display_data"
    }
   ],
   "source": [
    "display.display_pretty(STANDARD_KEYS[4:-14:7])"
   ]
  },
  {
   "cell_type": "code",
   "execution_count": 44,
   "metadata": {},
   "outputs": [
    {
     "data": {
      "text/markdown": [
       "<kbd style=\"color:red; background-color:rgb(0,95.5,1.4);\">Ctrl</kbd>"
      ],
      "text/plain": [
       "<IPython.core.display.Markdown object>"
      ]
     },
     "metadata": {},
     "output_type": "display_data"
    }
   ],
   "source": [
    "from IPython import display\n",
    "display.display(display.Markdown('<kbd style=\"color:red; background-color:rgb(0,95.5,1.4);\">Ctrl</kbd>'))"
   ]
  },
  {
   "cell_type": "markdown",
   "metadata": {},
   "source": [
    "Hello $t=1$"
   ]
  }
 ],
 "metadata": {
  "kernelspec": {
   "display_name": "Python 3",
   "language": "python",
   "name": "python3"
  },
  "language_info": {
   "codemirror_mode": {
    "name": "ipython",
    "version": 3
   },
   "file_extension": ".py",
   "mimetype": "text/x-python",
   "name": "python",
   "nbconvert_exporter": "python",
   "pygments_lexer": "ipython3",
   "version": "3.7.2"
  }
 },
 "nbformat": 4,
 "nbformat_minor": 4
}
